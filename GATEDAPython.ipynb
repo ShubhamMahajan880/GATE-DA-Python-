{
  "nbformat": 4,
  "nbformat_minor": 0,
  "metadata": {
    "colab": {
      "provenance": []
    },
    "kernelspec": {
      "name": "python3",
      "display_name": "Python 3"
    },
    "language_info": {
      "name": "python"
    }
  },
  "cells": [
    {
      "cell_type": "markdown",
      "source": [
        "Important for GATE DA  - Pop and Pop Item operations in Dictionary Deletion"
      ],
      "metadata": {
        "id": "ztijQuXU5-j3"
      }
    },
    {
      "cell_type": "markdown",
      "source": [
        "#Python basic notes for DA"
      ],
      "metadata": {
        "id": "atYO51qmFUwj"
      }
    },
    {
      "cell_type": "code",
      "execution_count": null,
      "metadata": {
        "id": "6OrJoi45YQo-",
        "colab": {
          "base_uri": "https://localhost:8080/"
        },
        "outputId": "71443d81-1619-4967-ea17-76630278bc1e"
      },
      "outputs": [
        {
          "output_type": "stream",
          "name": "stdout",
          "text": [
            "Shubham Score AIR Under 10 \n",
            "Thank You Universe\n",
            "1167\n",
            "3\n",
            "False\n"
          ]
        }
      ],
      "source": [
        "#Python basic notes for DA\n",
        "print(\"Shubham Score AIR Under 10 \")\n",
        "print('Thank You Universe')\n",
        "print(1167)\n",
        "print(1+2)\n",
        "print(1>2)"
      ]
    },
    {
      "cell_type": "markdown",
      "source": [
        "#Variale\n"
      ],
      "metadata": {
        "id": "i4cesqC8FZoa"
      }
    },
    {
      "cell_type": "code",
      "source": [
        "#Variale  - name must start with ALphabet or underscore Only\n",
        "a = 2\n",
        "print(a)\n",
        "a = 5 # On updating the value\n",
        "print(a)\n",
        "_a = 7\n",
        "print(_a)\n",
        "A = 10\n",
        "print(A) # Case sensitivity matters here"
      ],
      "metadata": {
        "colab": {
          "base_uri": "https://localhost:8080/"
        },
        "id": "3t9E5J7aaEKJ",
        "outputId": "949c6627-e221-41cb-90fd-da5712f1e365"
      },
      "execution_count": null,
      "outputs": [
        {
          "output_type": "stream",
          "name": "stdout",
          "text": [
            "2\n",
            "5\n",
            "7\n",
            "10\n"
          ]
        }
      ]
    },
    {
      "cell_type": "markdown",
      "source": [
        "#Operators"
      ],
      "metadata": {
        "id": "HrFu_3dQFck1"
      }
    },
    {
      "cell_type": "code",
      "source": [
        "from binascii import b2a_base64\n",
        "#Operators\n",
        "\"\"\"\n",
        "1) Arithmatic Operator - +,-,*,/,//,**,%\n",
        "\n",
        "\"\"\"\n",
        "\n",
        "a = 10\n",
        "b = 5\n",
        "c = a+b\n",
        "print(c)\n",
        "d = a-b\n",
        "print(d)\n",
        "e = a*b\n",
        "print(e)\n",
        "f = a % b # Modulus Operator - Retuns the Remainder only\n",
        "print(f)\n",
        "g = a/b\n",
        "print(g)\n",
        "h = a//b # Floor Division Operator - Gives the exact int ans only.\n",
        "print(h)\n",
        "i = print(a**b)# Double Astric - Power Operator\n",
        "print(i)\n"
      ],
      "metadata": {
        "colab": {
          "base_uri": "https://localhost:8080/"
        },
        "id": "daPncuHzasVI",
        "outputId": "b258c454-038b-4303-f140-156138859181"
      },
      "execution_count": null,
      "outputs": [
        {
          "output_type": "stream",
          "name": "stdout",
          "text": [
            "15\n",
            "5\n",
            "50\n",
            "0\n",
            "2.0\n",
            "2\n",
            "100000\n",
            "None\n"
          ]
        }
      ]
    },
    {
      "cell_type": "code",
      "source": [
        "#2) Logical Operator - AND, OR , NOT\n",
        "a = 10\n",
        "print(a<12 and a>20)\n",
        "print(a<12 or a>20)\n",
        "print(not(a<12))"
      ],
      "metadata": {
        "colab": {
          "base_uri": "https://localhost:8080/"
        },
        "id": "XgH6fMsnarQl",
        "outputId": "47612500-b17c-4aed-8ca5-0c31b3970dd7"
      },
      "execution_count": null,
      "outputs": [
        {
          "output_type": "stream",
          "name": "stdout",
          "text": [
            "False\n",
            "True\n",
            "False\n"
          ]
        }
      ]
    },
    {
      "cell_type": "code",
      "source": [
        "#3) Comparision operator -\n",
        "\"\"\"\n",
        "!= OR <> - this sumbol os only valid for Python 2 version only\n",
        "= is assigning operator while == equal to (Checking)\n",
        "\"\"\"\n",
        "10!=23 # True\n",
        "\n",
        "a = 2\n",
        "a == 2# True\n",
        "a == 3# False"
      ],
      "metadata": {
        "colab": {
          "base_uri": "https://localhost:8080/"
        },
        "id": "CczpzAC0vsOr",
        "outputId": "e3c759e0-ac09-48ab-fcbe-f9b5d5b4ce26"
      },
      "execution_count": null,
      "outputs": [
        {
          "output_type": "execute_result",
          "data": {
            "text/plain": [
              "False"
            ]
          },
          "metadata": {},
          "execution_count": 14
        }
      ]
    },
    {
      "cell_type": "markdown",
      "source": [
        "#In built Data Structures in Python List, tuples, Sets, Dictionaries\n"
      ],
      "metadata": {
        "id": "3enGMB-UFfAm"
      }
    },
    {
      "cell_type": "code",
      "source": [
        "\"\"\"\n",
        "In built Data Structures in Python\n",
        "List, tuples, Sets, Dictionaries\n",
        "\"\"\"\n",
        "# List [] -\n",
        "#1 List is reprsentd by [] - Square brackets or Columnm\n",
        "#2) List are mutable object, Ordered, changeble and allow duplicates\n",
        "\n",
        "list1 = [1,2,2,3,4,5, 'S', 'm', 'AIR_10']\n",
        "print(list1)\n",
        "type(list1)"
      ],
      "metadata": {
        "id": "-5bgKhyuYXVX",
        "colab": {
          "base_uri": "https://localhost:8080/"
        },
        "outputId": "fbe08f94-9cbf-43f5-dd90-1a562507fe9f"
      },
      "execution_count": null,
      "outputs": [
        {
          "output_type": "stream",
          "name": "stdout",
          "text": [
            "[1, 2, 2, 3, 4, 5, 'S', 'm', 'AIR_10']\n"
          ]
        },
        {
          "output_type": "execute_result",
          "data": {
            "text/plain": [
              "list"
            ]
          },
          "metadata": {},
          "execution_count": 16
        }
      ]
    },
    {
      "cell_type": "code",
      "source": [
        "# Tuples () -\n",
        "#1 - Tuples are reprected by short brackets\n",
        "#2 - Tuples are immutable, Unchangeble, Ordered & Allow Duplicates.\n",
        "t1 = (1,2,3,4,4,'A', 'd', 'GATE DA')\n",
        "print(t1)\n",
        "type(t1)"
      ],
      "metadata": {
        "colab": {
          "base_uri": "https://localhost:8080/"
        },
        "id": "RwlJCQ8q0htH",
        "outputId": "ca0cb022-d49a-473e-a825-08b9ee45718f"
      },
      "execution_count": null,
      "outputs": [
        {
          "output_type": "stream",
          "name": "stdout",
          "text": [
            "(1, 2, 3, 4, 4, 'A', 'd', 'GATE DA')\n"
          ]
        },
        {
          "output_type": "execute_result",
          "data": {
            "text/plain": [
              "tuple"
            ]
          },
          "metadata": {},
          "execution_count": 18
        }
      ]
    },
    {
      "cell_type": "code",
      "source": [
        "# Sets {} -\n",
        "#1 - Sets are represented by Middle Brackets {}\n",
        "#2 - Sets are Mutable, Unordered, Unchangeble, and it does not allow duplicates\n",
        "\n",
        "Set1 = {1,2,5,'A','s'}\n",
        "print(Set1)\n",
        "type(Set1)\n"
      ],
      "metadata": {
        "colab": {
          "base_uri": "https://localhost:8080/"
        },
        "id": "qiNpu8t01pCt",
        "outputId": "ed3888c2-4c77-44d5-8196-c1639444498a"
      },
      "execution_count": null,
      "outputs": [
        {
          "output_type": "stream",
          "name": "stdout",
          "text": [
            "{1, 2, 'A', 5, 's'}\n"
          ]
        },
        {
          "output_type": "execute_result",
          "data": {
            "text/plain": [
              "set"
            ]
          },
          "metadata": {},
          "execution_count": 21
        }
      ]
    },
    {
      "cell_type": "code",
      "source": [
        "# Dictionary {Key1 : value1, Key2 : Value2}\n",
        "#1 - It does not allow duplicate keys, Changeable\n",
        "#2 - From Python 3.7 dictionaries are ORDERED, but till Python 3.6 dictinaries were UNORDERED\n",
        "#3 - Key must be unique in the dictionary\n",
        "dict1 = {a:12, b:23, c:45, \"GateRankHolder\" : \"Shubham Mahajan\" }\n",
        "print(dict1)\n",
        "type(dict1)"
      ],
      "metadata": {
        "colab": {
          "base_uri": "https://localhost:8080/"
        },
        "id": "5cfSRKDr2uo2",
        "outputId": "97dcf18b-ef16-4de4-e858-399b7da02344"
      },
      "execution_count": null,
      "outputs": [
        {
          "output_type": "stream",
          "name": "stdout",
          "text": [
            "{2: 12, 5: 23, 15: 45, 'GateRankHolder': 'Shubham Mahajan'}\n"
          ]
        },
        {
          "output_type": "execute_result",
          "data": {
            "text/plain": [
              "dict"
            ]
          },
          "metadata": {},
          "execution_count": 22
        }
      ]
    },
    {
      "cell_type": "markdown",
      "source": [
        "# List Operations -"
      ],
      "metadata": {
        "id": "CKSWo2oJFrC0"
      }
    },
    {
      "cell_type": "code",
      "source": [
        "# operatins with the following data structures of Python -\n",
        "\n",
        "# For List first -\n",
        "List1 = [70,75,80,85,90]\n",
        "print(List1)\n",
        "\n",
        "# indexing - Indexing start with 0 always\n",
        "print(List1[0])#70\n",
        "print(List1[4])#90\n",
        "#__________________________________________________\n",
        "\n",
        "# Splicing of List -\n",
        "# List[n : m]...elements at possition n to m-1\n",
        "\n",
        "print(List1[ : 4])#[70, 75, 80, 85]\n",
        "print(List1[1:4])# [75, 80, 85]\n",
        "#__________________________________________________\n",
        "\n",
        "#Updating the List -\n",
        "# As List is a Mutable object so it allows to update the elements\n",
        "# Replace the respective eleemnnt with indexing at where we want to update\n",
        "List1[2] = 84\n",
        "print(List1)# [70, 75, 84, 85, 90]\n",
        "#__________________________________________________\n",
        "\n",
        "#Insertion in List\n",
        "# Can be done by either INSERT OR APPEND\n",
        "\n",
        "# APPEND - is uses for inserting an element in the LAST\n",
        "List1.append(95)\n",
        "print(List1) # [70, 75, 84, 85, 90, 95]\n",
        "\n",
        "# INSErT - while insert is uses for inserrtting element at any specific locaiton by locating an index\n",
        "List1.insert(4,92)\n",
        "print(List1) # [70, 75, 84, 85, 92, 90, 95]\n",
        "#__________________________________________________\n",
        "\n",
        "# Removing Elememnt from List -\n",
        "#Remove - remove command along with the value of element\n",
        "# Element from the list can be removed by simple using remove command along with the value of element which need to remobve\n",
        "print(List1)# [70, 75, 84, 85, 92, 90, 95]\n",
        "List1.remove(85)\n",
        "print(List1)# [70, 75, 84, 92, 90, 95]\n",
        "# if there is multiple same value elements then it will remove the firt one.\n",
        "List2 = [55,60,65,70,60,45,60,100]\n",
        "print(List2)#[55, 60, 65, 70, 60, 45, 60, 100]\n",
        "List2.remove(60)\n",
        "print(List2)#[55, 65, 70, 60, 45, 60, 100]\n",
        "\n",
        "#PoP - Pop Commmand is uses for removing value of element from index value\n",
        "List2 = [55,60,65,70,60,45,60,100]\n",
        "List2.pop(2)\n",
        "print(List2)# [55, 60, 70, 60, 45, 60, 100]\n",
        "#__________________________________________________"
      ],
      "metadata": {
        "colab": {
          "base_uri": "https://localhost:8080/"
        },
        "id": "BqagBgYq4Afq",
        "outputId": "16139df9-abf5-483c-a0e6-f4b36c476dbd"
      },
      "execution_count": null,
      "outputs": [
        {
          "output_type": "stream",
          "name": "stdout",
          "text": [
            "[70, 75, 80, 85, 90]\n",
            "70\n",
            "90\n",
            "[70, 75, 80, 85]\n",
            "[75, 80, 85]\n",
            "[70, 75, 84, 85, 90]\n",
            "[70, 75, 84, 85, 90, 95]\n",
            "[70, 75, 84, 85, 92, 90, 95]\n",
            "[70, 75, 84, 85, 92, 90, 95]\n",
            "[70, 75, 84, 92, 90, 95]\n",
            "[55, 60, 65, 70, 60, 45, 60, 100]\n",
            "[55, 65, 70, 60, 45, 60, 100]\n",
            "[55, 60, 70, 60, 45, 60, 100]\n"
          ]
        }
      ]
    },
    {
      "cell_type": "markdown",
      "source": [
        "# Tuple Operations -\n"
      ],
      "metadata": {
        "id": "-G5xkpcsFuX4"
      }
    },
    {
      "cell_type": "code",
      "source": [
        "  # operatins with the following data structures of Python -\n",
        "\n",
        "# For Tuples -\n",
        "t1 = (10,15,20,25,30)\n",
        "print(t1) #(10,15,20,25,30)\n",
        "#Indexing in tuple -\n",
        "print(t1[2])#20\n",
        "print(t1[4])#30\n",
        "#__________________________________________________\n",
        "\n",
        "#Slicing in Tuple -\n",
        "print(t1[:4])# (10, 15, 20, 25)\n",
        "print(t1[1:4])# (15, 20, 25)\n",
        "#__________________________________________________\n",
        "\n",
        "#update in tuple -\n",
        "\"\"\"\n",
        "t1[2] = 22\n",
        "print(t1)#'tuple' object does not support item assignment - as tuple is IMMUTABLE so can't update over here.\n",
        "\"\"\""
      ],
      "metadata": {
        "colab": {
          "base_uri": "https://localhost:8080/",
          "height": 126
        },
        "id": "raewZHQ76bW9",
        "outputId": "c1cb4761-b0d7-4f3e-88ee-5e9abc6bce90"
      },
      "execution_count": null,
      "outputs": [
        {
          "output_type": "stream",
          "name": "stdout",
          "text": [
            "(10, 15, 20, 25, 30)\n",
            "20\n",
            "30\n",
            "(10, 15, 20, 25)\n",
            "(15, 20, 25)\n"
          ]
        },
        {
          "output_type": "execute_result",
          "data": {
            "text/plain": [
              "\"\\nt1[2] = 22\\nprint(t1)#'tuple' object does not support item assignment - as tuple is IMMUTABLE so can't update over here.\\n\""
            ],
            "application/vnd.google.colaboratory.intrinsic+json": {
              "type": "string"
            }
          },
          "metadata": {},
          "execution_count": 37
        }
      ]
    },
    {
      "cell_type": "markdown",
      "source": [
        "#Sets Operations -\n"
      ],
      "metadata": {
        "id": "0o7_xj0vFxDz"
      }
    },
    {
      "cell_type": "code",
      "source": [
        "# operatins with the following data structures of Python -\n",
        "\n",
        "# Sets  -\n",
        "set1 = {1,2,4,5,'Piyush','Python'}\n",
        "print(set1)# {1, 2, 'Python', 4, 5, 'Piyush'} - as order is not fixed so its unordered\n",
        "#__________________________________________________\n",
        "\n",
        "#set function  -\n",
        "#is uses for set(arrange) any set in the correct order.\n",
        "set2 = set((2,5,6,'Data Analytics'))\n",
        "print(set2)# {2, 'Data Analytics', 5, 6}\n",
        "#__________________________________________________\n",
        "\n",
        "#len() function -\n",
        "#uses for givving the length of any set, tuple or dictionary\n",
        "print(len(set1))# 6\n",
        "print(len(set2))# 4\n",
        "#__________________________________________________\n",
        "\n",
        "#remove()#uses for removing element from set using indexng concept\n",
        "set1.remove(1)\n",
        "print(set1)#{2, 'Python', 4, 5, 'Piyush'}\n",
        "#__________________________________________________\n",
        "\n",
        "#add() # uses for adding elements into  the set\n",
        "set2.add('Python for Data Scienc')\n",
        "print(set2)#{2, 5, 6, 'Data Analytics', 'Python for Data Scienc'}"
      ],
      "metadata": {
        "colab": {
          "base_uri": "https://localhost:8080/"
        },
        "id": "Bc_6-vqB9U0M",
        "outputId": "130d93fd-4d7e-4107-847e-c25291a8bcbe"
      },
      "execution_count": null,
      "outputs": [
        {
          "output_type": "stream",
          "name": "stdout",
          "text": [
            "{1, 2, 'Python', 4, 5, 'Piyush'}\n",
            "{2, 'Data Analytics', 5, 6}\n",
            "6\n",
            "4\n",
            "{2, 'Python', 4, 5, 'Piyush'}\n",
            "{2, 5, 6, 'Data Analytics', 'Python for Data Scienc'}\n"
          ]
        }
      ]
    },
    {
      "cell_type": "code",
      "source": [
        "#Set Operations - Union, Intersection & Difference\n",
        "\n",
        "#union Opeation - by | (vertical slash)\n",
        "print(set1)\n",
        "print(set2)\n",
        "set3 = set1 | set2\n",
        "print(set3)\n",
        "\n",
        "\"\"\"\n",
        "{2, 'Python', 4, 5, 'Piyush'}\n",
        "{2, 5, 6, 'Data Analytics', 'Python for Data Scienc'}\n",
        "{2, 'Python', 4, 5, 6, 'Data Analytics', 'Python for Data Scienc', 'Piyush'}\n",
        "\"\"\""
      ],
      "metadata": {
        "colab": {
          "base_uri": "https://localhost:8080/"
        },
        "id": "4K6xchuRUbDU",
        "outputId": "f18b48ce-9610-436d-b9e8-ffa8062b2def"
      },
      "execution_count": null,
      "outputs": [
        {
          "output_type": "stream",
          "name": "stdout",
          "text": [
            "{2, 'Python', 4, 5, 'Piyush'}\n",
            "{2, 5, 6, 'Data Analytics', 'Python for Data Scienc'}\n",
            "{2, 'Python', 4, 5, 6, 'Data Analytics', 'Python for Data Scienc', 'Piyush'}\n"
          ]
        }
      ]
    },
    {
      "cell_type": "code",
      "source": [
        "#Intersection Opeation - by &\n",
        "print(set1)\n",
        "print(set2)\n",
        "set4 = set1 & set2\n",
        "print(set4)\n",
        "\n",
        "\"\"\"\n",
        "{2, 'Python', 4, 5, 'Piyush'}\n",
        "{2, 5, 6, 'Data Analytics', 'Python for Data Scienc'}\n",
        "{2, 5}\n",
        "\"\"\""
      ],
      "metadata": {
        "colab": {
          "base_uri": "https://localhost:8080/"
        },
        "id": "KKzSLYLmVDnC",
        "outputId": "d3537fac-722a-482e-bfe8-7c9de0ea46e1"
      },
      "execution_count": null,
      "outputs": [
        {
          "output_type": "stream",
          "name": "stdout",
          "text": [
            "{2, 'Python', 4, 5, 'Piyush'}\n",
            "{2, 5, 6, 'Data Analytics', 'Python for Data Scienc'}\n",
            "{2, 5}\n"
          ]
        }
      ]
    },
    {
      "cell_type": "markdown",
      "source": [
        "#Difference Opeation -"
      ],
      "metadata": {
        "id": "RhXcptV6iVSR"
      }
    },
    {
      "cell_type": "code",
      "source": [
        "#Difference Opeation -\n",
        "print(set1)\n",
        "print(set2)\n",
        "set5 = set2 - set1\n",
        "print(set5)\n",
        "\n",
        "\"\"\"\n",
        "{2, 'Python', 4, 5, 'Piyush'}\n",
        "{2, 5, 6, 'Data Analytics', 'Python for Data Scienc'}\n",
        "{'Data Analytics', 'Python for Data Scienc', 6}\n",
        "\"\"\""
      ],
      "metadata": {
        "colab": {
          "base_uri": "https://localhost:8080/",
          "height": 90
        },
        "id": "TSUq0DjoVXNu",
        "outputId": "60492d83-f3a1-44c2-c01d-29a45b0434e1"
      },
      "execution_count": null,
      "outputs": [
        {
          "output_type": "stream",
          "name": "stdout",
          "text": [
            "{2, 'Python', 4, 5, 'Piyush'}\n",
            "{2, 5, 6, 'Data Analytics', 'Python for Data Scienc'}\n",
            "{'Data Analytics', 'Python for Data Scienc', 6}\n"
          ]
        },
        {
          "output_type": "execute_result",
          "data": {
            "text/plain": [
              "\"\\n{2, 'Python', 4, 5, 'Piyush'}\\n{2, 5, 6, 'Data Analytics', 'Python for Data Scienc'}\\n{'Data Analytics', 'Python for Data Scienc', 6}\\n\""
            ],
            "application/vnd.google.colaboratory.intrinsic+json": {
              "type": "string"
            }
          },
          "metadata": {},
          "execution_count": 62
        }
      ]
    },
    {
      "cell_type": "code",
      "source": [
        "print(set1)\n",
        "print(set2)\n",
        "set6 = set1 - set2\n",
        "print(set6)\n",
        "\n",
        "\"\"\"\n",
        "{2, 'Python', 4, 5, 'Piyush'}\n",
        "{2, 5, 6, 'Data Analytics', 'Python for Data Scienc'}\n",
        "{'Python', 4, 'Piyush'}\n",
        "\"\"\""
      ],
      "metadata": {
        "colab": {
          "base_uri": "https://localhost:8080/"
        },
        "id": "xUBxYblnVtgl",
        "outputId": "098f2499-42e2-449a-d57a-4c11279eb44e"
      },
      "execution_count": null,
      "outputs": [
        {
          "output_type": "stream",
          "name": "stdout",
          "text": [
            "{2, 'Python', 4, 5, 'Piyush'}\n",
            "{2, 5, 6, 'Data Analytics', 'Python for Data Scienc'}\n",
            "{'Python', 4, 'Piyush'}\n"
          ]
        }
      ]
    },
    {
      "cell_type": "code",
      "source": [
        "set11 = {'Piyush', 4,6,6,8,0,8,'Piyush'}\n",
        "print(set11)#{0, 4, 6, 8, 'Piyush'} - duplicate entity not  allowed in set\n",
        "set12 = {'Piyush', 4,6,6,8,0,8,'piyush'}\n",
        "print(set12)#{0, 'piyush', 4, 6, 8, 'Piyush'} - allow case sensitiveness but don't allow duplicate entity\n",
        "#__________________________________________________\n",
        "\n",
        "# Boolean Operator -\n",
        "set13 = {0, True, False, 'True', 'False'} # here 0 is considered as False and False is also mentioned, so in a set it does not allow to duplicate entity therefore only 1 time printing of either 0's false or False's false\n",
        "print(set13)\n",
        "\n",
        "set14 = {1, True, False, 'True', 'False'}\n",
        "print(set14)#{False, 1, 'False', 'True'}"
      ],
      "metadata": {
        "colab": {
          "base_uri": "https://localhost:8080/"
        },
        "id": "hLWFH9jZW1ZE",
        "outputId": "9601dade-6b61-4798-cd2d-05e6d6a15535"
      },
      "execution_count": null,
      "outputs": [
        {
          "output_type": "stream",
          "name": "stdout",
          "text": [
            "{0, 4, 6, 8, 'Piyush'}\n",
            "{0, 'piyush', 4, 6, 8, 'Piyush'}\n",
            "{0, True, 'False', 'True'}\n",
            "{False, 1, 'False', 'True'}\n"
          ]
        }
      ]
    },
    {
      "cell_type": "markdown",
      "source": [
        "#Dictionary Operations -\n"
      ],
      "metadata": {
        "id": "Jbz1eBV6F1c4"
      }
    },
    {
      "cell_type": "code",
      "source": [
        "# operatins with the following data structures of Python -\n",
        "\n",
        "# Dictionary -\n",
        "\"\"\"\n",
        "Creating an empty dictionary\n",
        "Key must be unique\n",
        "dict = {key:value, key2:value2}\n",
        "creating a dictionary with initial value\n",
        "\"\"\"\n",
        "my_dict = {'name':'Shubham Mahjaan', 'Rank': 10, 'marks' : 75, 'Year' : 2025}\n",
        "print(my_dict)# {'name': 'Shubham Mahjaan', 'Rank': 10, 'marks': 75, 'Year': 2025}\n",
        "\n",
        "#Printing Particular Value from the dictionary  through respective key\n",
        "#Syntax - NAME_of_dictionary['key1'] = Value1\n",
        "print(my_dict['Rank'])#10\n",
        "print(my_dict['Year'])#2025\n",
        "#__________________________________________________\n",
        "\n",
        "#Insertion in DIctioanry -\n",
        "#Adding a new Key & valupair in the dictioanry\n",
        "#Syntax - NAME_of_dictionary['keyName'] = Value\n",
        "my_dict['Exam'] = 'GATEDA'\n",
        "print(my_dict)#{'name': 'Shubham Mahjaan', 'Rank': 10, 'marks': 75, 'Year': 2025, 'Exam': 'GATEDA'}\n",
        "my_dict['GateScore'] = 950\n",
        "print(my_dict)#{'name': 'Shubham Mahjaan', 'Rank': 10, 'marks': 75, 'Year': 2025, 'Exam': 'GATEDA', 'GateScore': 950}\n",
        "#__________________________________________________\n",
        "\n",
        "#Updationn In Dicitoanry -\n",
        "#Updating any value in its key pair in the dictionary -\n",
        "#Syntax - nAMEOFDICTIONARY['Key name'] = Updated Value\n",
        "my_dict['Rank'] = 5\n",
        "print(my_dict)#{'name': 'Shubham Mahjaan', 'Rank': 5, 'marks': 75, 'Year': 2025, 'Exam': 'GATEDA', 'GateScore': 950}\n",
        "#__________________________________________________\n",
        "\n",
        "#Deletion Operation in Dictionary -\n",
        "#1 - using del keyword\n",
        "#Syntax - NAMEOFDICTIONARY['Key Name to be Deleted']\n",
        "del my_dict['GateScore']\n",
        "print(my_dict)#{'name': 'Shubham Mahjaan', 'Rank': 5, 'marks': 75, 'Year': 2025, 'Exam': 'GATEDA'}\n",
        "\n",
        "\n",
        "#2 - using pop keyword\n",
        "\"\"\"Syntax -\n",
        "keyname = NAMEOFDICTIONARY.pop('Keyname')\n",
        "print(NAMEOFDICTIONARY)\n",
        "print(keyname)\n",
        "\"\"\"\n",
        "Exam = my_dict.pop('Exam')\n",
        "print(my_dict)#{'name': 'Shubham Mahjaan', 'Rank': 5, 'marks': 75, 'Year': 2025}\n",
        "print(Exam)#GATEDA\n",
        "\n",
        "#3 - Using Popitem\n",
        "\"\"\"Syntax -\n",
        "item = NAMEOFDICTIONARY.popitem()\n",
        "print(NAMEOFDICTIONARY)\n",
        "print(item) - it will give the name of popped item\n",
        "It will remove arbirtary items one by one by it self\n",
        "\"\"\"\n",
        "item = my_dict.popitem()\n",
        "print(my_dict)#{'name': 'Shubham Mahjaan', 'Rank': 5, 'marks': 75}\n",
        "print(item)# ('Year', 2025)\n",
        "\n",
        "item = my_dict.popitem()\n",
        "print(my_dict)#{'name': 'Shubham Mahjaan', 'Rank': 5}\n",
        "print(item)# ('marks', 75)\n",
        "\n",
        "item = my_dict.popitem()\n",
        "print(my_dict)#{'name': 'Shubham Mahjaan'}\n",
        "print(item)# ('Rank', 5)\n",
        "\n",
        "item = my_dict.popitem()\n",
        "print(my_dict)#{}\n",
        "print(item)#('name', 'Shubham Mahjaan')\n",
        "#__________________________________________________\n",
        "\n",
        "# In & Not in\n",
        "L = [9,6,8,0]\n",
        "print(9 in L)#True\n",
        "print(9 not in L)#False\n",
        "\n",
        "#use this approch to chech the key name present in the dicitonary or not\n",
        "\n",
        "my_dict = {'name':'Shubham Mahjaan', 'Rank': 10, 'marks' : 75, 'Year' : 2025}\n",
        "print('Rank' in my_dict)# True\n",
        "print('GateScore' not in my_dict)# True\n",
        "#__________________________________________________\n",
        "\n",
        "#getting all key names from the dictioanry -\n",
        "my_dict = {'name':'Shubham Mahjaan', 'Rank': 10, 'marks' : 75, 'Year' : 2025}\n",
        "print(my_dict.keys())# dict_keys(['name', 'Rank', 'marks', 'Year'])\n",
        "\n",
        "#getting all values from dictionary -\n",
        "values = my_dict.values()\n",
        "print(values)#dict_values(['Shubham Mahjaan', 10, 75, 2025])\n",
        "#__________________________________________________\n",
        "\n",
        "#Using get function getting valuepair of respective keys\n",
        "print(my_dict.get('marks'))# 75\n",
        "print(my_dict.get('Exam'))# None - output for those which key isn't present in the dictionary\n",
        "#__________________________________________________\n",
        "\n",
        "# Clear the whole dictionary at a time -\n",
        "my_dict.clear()\n",
        "print(my_dict)#{}\n",
        "#__________________________________________________\n",
        "\n",
        "#Create a copy of same dictionary -\n",
        "my_dict = {'name':'Shubham Mahjaan', 'Rank': 10, 'marks' : 75, 'Year' : 2025}\n",
        "copy_dict = my_dict.copy()\n",
        "print(copy_dict)# {'name': 'Shubham Mahjaan', 'Rank': 10, 'marks': 75, 'Year': 2025}\n",
        "#__________________________________________________\n",
        "\n",
        "# Returning an object view of dictionary\n",
        "items = my_dict.items()\n",
        "print(items)#dict_items([('name', 'Shubham Mahjaan'), ('Rank', 10), ('marks', 75), ('Year', 2025)])\n",
        "#__________________________________________________\n",
        "\n",
        "# Usinf setdefault for a default value of keys which are not present in the dictinary -\n",
        "value = my_dict.setdefault('Exam', 'Not Found Buddy')\n",
        "print(value)#Not Found Buddy\n",
        "print(my_dict)#{'name': 'Shubham Mahjaan', 'Rank': 10, 'marks': 75, 'Year': 2025, 'Exam': 'Not Found Buddy'}\n",
        "#__________________________________________________\n",
        "\n",
        "#Merging of two dictioanaries -\n",
        "dict1 = {'name':'Shubham Mahajan', 'ExamName':'GATE DA' }\n",
        "dict2 = {'Rank':10, 'Year':2025, 'Marks':80 }\n",
        "dict1.update(dict2)\n",
        "print(dict1)#{'name': 'Shubham Mahajan', 'ExamName': 'GATE DA', 'Rank': 10, 'Year': 2025, 'Marks': 80}\n",
        "dict2.update(dict1)\n",
        "print(dict2)#{'Rank': 10, 'Year': 2025, 'Marks': 80, 'name': 'Shubham Mahajan', 'ExamName': 'GATE DA'}\n",
        "#__________________________________________________\n",
        "\n",
        "#nested Dictionary - Where dictinary & List both are together\n",
        "nested_dict = {\n",
        "    'person1': {'name': 'Rushil', 'Rank': 10},\n",
        "    'person2' : {'name' : 'jignesh', 'age' : 45}\n",
        "}\n",
        "print(nested_dict['person1']['name'])#Rushil\n",
        "print(nested_dict['person2']['age'])#45\n",
        "#__________________________________________________"
      ],
      "metadata": {
        "colab": {
          "base_uri": "https://localhost:8080/"
        },
        "id": "sMJXbxSXzKE2",
        "outputId": "e89c11f3-1680-465a-dcc8-d1bdd487ea74"
      },
      "execution_count": null,
      "outputs": [
        {
          "output_type": "stream",
          "name": "stdout",
          "text": [
            "{'name': 'Shubham Mahjaan', 'Rank': 10, 'marks': 75, 'Year': 2025}\n",
            "10\n",
            "2025\n",
            "{'name': 'Shubham Mahjaan', 'Rank': 10, 'marks': 75, 'Year': 2025, 'Exam': 'GATEDA'}\n",
            "{'name': 'Shubham Mahjaan', 'Rank': 10, 'marks': 75, 'Year': 2025, 'Exam': 'GATEDA', 'GateScore': 950}\n",
            "{'name': 'Shubham Mahjaan', 'Rank': 5, 'marks': 75, 'Year': 2025, 'Exam': 'GATEDA', 'GateScore': 950}\n",
            "{'name': 'Shubham Mahjaan', 'Rank': 5, 'marks': 75, 'Year': 2025, 'Exam': 'GATEDA'}\n",
            "{'name': 'Shubham Mahjaan', 'Rank': 5, 'marks': 75, 'Year': 2025}\n",
            "GATEDA\n",
            "{'name': 'Shubham Mahjaan', 'Rank': 5, 'marks': 75}\n",
            "('Year', 2025)\n",
            "{'name': 'Shubham Mahjaan', 'Rank': 5}\n",
            "('marks', 75)\n",
            "{'name': 'Shubham Mahjaan'}\n",
            "('Rank', 5)\n",
            "{}\n",
            "('name', 'Shubham Mahjaan')\n",
            "True\n",
            "False\n",
            "True\n",
            "True\n",
            "dict_keys(['name', 'Rank', 'marks', 'Year'])\n",
            "dict_values(['Shubham Mahjaan', 10, 75, 2025])\n",
            "75\n",
            "None\n",
            "{}\n",
            "{'name': 'Shubham Mahjaan', 'Rank': 10, 'marks': 75, 'Year': 2025}\n",
            "dict_items([('name', 'Shubham Mahjaan'), ('Rank', 10), ('marks', 75), ('Year', 2025)])\n",
            "Not Found Buddy\n",
            "{'name': 'Shubham Mahjaan', 'Rank': 10, 'marks': 75, 'Year': 2025, 'Exam': 'Not Found Buddy'}\n",
            "{'name': 'Shubham Mahajan', 'ExamName': 'GATE DA', 'Rank': 10, 'Year': 2025, 'Marks': 80}\n",
            "{'Rank': 10, 'Year': 2025, 'Marks': 80, 'name': 'Shubham Mahajan', 'ExamName': 'GATE DA'}\n",
            "Rushil\n",
            "45\n"
          ]
        }
      ]
    },
    {
      "cell_type": "markdown",
      "source": [
        "#If Else COnditions -"
      ],
      "metadata": {
        "id": "VVHXQ0DnKiyO"
      }
    },
    {
      "cell_type": "code",
      "source": [
        "#If Else COnditions -\n",
        "\"\"\"\n",
        "if condition -\n",
        "code to execute if the condition is true\n",
        "\"\"\"\n",
        "\n",
        "numbers = [1,2,3,4,5,6]\n",
        "if 5 in numbers:\n",
        "  print('5 is in the list')#5 is in the list\n",
        "\n",
        "numerology = [2,4,6,10,12,14]\n",
        "if 8 in numerology:\n",
        "  print('8 is not present in numerology')\n"
      ],
      "metadata": {
        "id": "qmsoVIIazLSe",
        "colab": {
          "base_uri": "https://localhost:8080/"
        },
        "outputId": "384afc86-5a0e-4021-a4f1-ef38591de266"
      },
      "execution_count": null,
      "outputs": [
        {
          "output_type": "stream",
          "name": "stdout",
          "text": [
            "5 is in the list\n"
          ]
        }
      ]
    },
    {
      "cell_type": "code",
      "source": [
        "number = 21\n",
        "if number > 20:\n",
        "  print('Number s greater')#Number s greater\n",
        "number2 = 15\n",
        "if number2 < 20:\n",
        "  print('Second Number is lesser')#Second Number is lesser"
      ],
      "metadata": {
        "id": "1I1UcDfpMBJH",
        "colab": {
          "base_uri": "https://localhost:8080/"
        },
        "outputId": "6e228604-cda8-4da3-8c26-181faa721626"
      },
      "execution_count": null,
      "outputs": [
        {
          "output_type": "stream",
          "name": "stdout",
          "text": [
            "Number s greater\n",
            "Second Number is lesser\n"
          ]
        }
      ]
    },
    {
      "cell_type": "code",
      "source": [
        "# if & else statement  -\n",
        "\"\"\"\n",
        "if condition:\n",
        "  code to execute if the condition is true\n",
        "else:\n",
        "  code to execute if the condition is false\n",
        "\"\"\"\n",
        "numbers = [70,75,80,85,90]\n",
        "if 80 in numbers:\n",
        "  print(\"yes it's in numbers\") # yes it's in numbers\n",
        "else:\n",
        "  print('No, not available from the following')"
      ],
      "metadata": {
        "colab": {
          "base_uri": "https://localhost:8080/"
        },
        "id": "j3F5ZgjPNcmp",
        "outputId": "8a6915b2-ab58-4b99-8b1f-48b5179bcd92"
      },
      "execution_count": null,
      "outputs": [
        {
          "output_type": "stream",
          "name": "stdout",
          "text": [
            "yes it's in numbers\n"
          ]
        }
      ]
    },
    {
      "cell_type": "code",
      "source": [
        "\"\"\"\n",
        "If else if statements\n",
        "if condition1:\n",
        "  code to execute if condition 1 is true\n",
        "elif condition2:\n",
        "  code to execute if condition 2 is true\n",
        "elif condition3:\n",
        "  code to execute if condition 3 is true\n",
        "else:\n",
        "  Code to execute if none of the statement is true.\n",
        "\"\"\"\n",
        "numbers = [1,2,3,4,5]\n",
        "if len(numbers) == 0:\n",
        "  print(\"The list is empty\")\n",
        "elif len(numbers) < 3:\n",
        "  print(\"The list has less than 3 elements\")\n",
        "elif len(numbers) < 5:\n",
        "  print(\"The list has less than 5 elements\")\n",
        "else:\n",
        "  print(\"The list has 5 or more elements\")\n",
        "\n",
        "#The list has 5 or more elements\n"
      ],
      "metadata": {
        "colab": {
          "base_uri": "https://localhost:8080/"
        },
        "id": "-LylfM0WOe58",
        "outputId": "6dadc88e-18bd-4884-c265-34ad217494a7"
      },
      "execution_count": null,
      "outputs": [
        {
          "output_type": "stream",
          "name": "stdout",
          "text": [
            "The list has 5 or more elements\n"
          ]
        }
      ]
    },
    {
      "cell_type": "markdown",
      "source": [
        "# For Loop & While Loop"
      ],
      "metadata": {
        "id": "vnlYFkzURGQv"
      }
    },
    {
      "cell_type": "code",
      "source": [
        "# For Loop -\n",
        "\"\"\"\n",
        "A for loop in python is used to iterate over a sequence(like a list, tuple, string or range) and execute a block of code multiple times.\n",
        "\n",
        "for itemname in sequence:\n",
        "  #Code to execute for each item\n",
        "\"\"\"\n",
        "\n",
        "Fruits = ['Apple','Mango','Pineapple']\n",
        "for fruit in Fruits:\n",
        "  print(fruit)\n",
        "\n",
        "\"\"\"\n",
        "Apple\n",
        "Mango\n",
        "Pineapple\n",
        "\"\"\"\n",
        "\n",
        "word = \"Python\"\n",
        "for letters in word:\n",
        "  print(letters)\n",
        "\"\"\"\n",
        "P\n",
        "y\n",
        "t\n",
        "h\n",
        "o\n",
        "n\n",
        "\"\"\"\n",
        "\n",
        "Statement = \"Shubham Mahajan Score AIR 10 in GATE DA\"\n",
        "for line in Statement:\n",
        "  print(line)\n",
        "#__________________________________________________\n",
        "\n",
        "#Range function - range(n) menas from 0 to n-1\n",
        "for i in range(5):\n",
        "  print(i)\n",
        "\"\"\"\n",
        "0\n",
        "1\n",
        "2\n",
        "3\n",
        "4\n",
        "\"\"\"\n",
        "for i in range(5):\n",
        "  print(i**2)\n",
        "\"\"\"\n",
        "0\n",
        "1\n",
        "4\n",
        "9\n",
        "16\n",
        "\"\"\"\n",
        "for i in range(10):\n",
        "  if i%2!=0:\n",
        "    print(i)\n",
        "\"\"\"\n",
        "1\n",
        "3\n",
        "5\n",
        "7\n",
        "9\n",
        "\"\"\"\n",
        "#__________________________________________________\n",
        "\n",
        "#Enumerate Fnction - is  a function uses for printing indexing with entity name.\n",
        "Fruits = ['Apple','Mango','PineApple']\n",
        "for Index,fruitname in enumerate(Fruits):\n",
        "  print(Index,fruitname)\n",
        "\"\"\"\n",
        "0 Apple\n",
        "1 Mango\n",
        "2 PineApple\n",
        "\"\"\"\n"
      ],
      "metadata": {
        "colab": {
          "base_uri": "https://localhost:8080/"
        },
        "id": "EcqYtYu5RMXY",
        "outputId": "3eceb8d4-8f57-4034-d917-7fa6da932481"
      },
      "execution_count": null,
      "outputs": [
        {
          "output_type": "stream",
          "name": "stdout",
          "text": [
            "Apple\n",
            "Mango\n",
            "Pineapple\n",
            "P\n",
            "y\n",
            "t\n",
            "h\n",
            "o\n",
            "n\n",
            "S\n",
            "h\n",
            "u\n",
            "b\n",
            "h\n",
            "a\n",
            "m\n",
            " \n",
            "M\n",
            "a\n",
            "h\n",
            "a\n",
            "j\n",
            "a\n",
            "n\n",
            " \n",
            "S\n",
            "c\n",
            "o\n",
            "r\n",
            "e\n",
            " \n",
            "A\n",
            "I\n",
            "R\n",
            " \n",
            "1\n",
            "0\n",
            " \n",
            "i\n",
            "n\n",
            " \n",
            "G\n",
            "A\n",
            "T\n",
            "E\n",
            " \n",
            "D\n",
            "A\n",
            "0\n",
            "1\n",
            "2\n",
            "3\n",
            "4\n",
            "0\n",
            "1\n",
            "4\n",
            "9\n",
            "16\n",
            "1\n",
            "3\n",
            "5\n",
            "7\n",
            "9\n",
            "0 Apple\n",
            "1 Mango\n",
            "2 PineApple\n"
          ]
        }
      ]
    },
    {
      "cell_type": "code",
      "source": [
        "#nested For Lopps - A For Loop inside another For Loop is called as Nested Fir Loop\n",
        "for i in range(3):\n",
        "  for j in range(2):\n",
        "    print(f\"i = {i}, j = {j}\")\n",
        "\"\"\"\n",
        "i = 0, j = 0\n",
        "i = 0, j = 1\n",
        "i = 1, j = 0\n",
        "i = 1, j = 1\n",
        "i = 2, j = 0\n",
        "i = 2, j = 1\n",
        "\"\"\"\n",
        "l1 = [2,3,1,8,7,9]\n",
        "l2 = [9,6,8,0,2,7]\n",
        "for i in l1:\n",
        "  for j in l2:\n",
        "    if i==j:\n",
        "      print(i)\n",
        "\"\"\"\n",
        "2\n",
        "8\n",
        "7\n",
        "9\n",
        "\"\"\"\n",
        "l1 = [\"Shubh\",\"GATE\", \"DA\", 2025, \"iit\",\"Placed\", 2026]\n",
        "l2 = [\"nIT\", \"iit\", \"JEE\", \"GATE\", \"Sahil\", \"Shubh\",2027 ]\n",
        "l3 = []\n",
        "for i in l1:\n",
        "  for j in l2:\n",
        "    if i==j:\n",
        "      l3.append(i)\n",
        "      print(l3)\n",
        "\"\"\"\n",
        "['Shubh']\n",
        "['Shubh', 'GATE']\n",
        "['Shubh', 'GATE', 'iit']\n",
        "\"\"\"\n"
      ],
      "metadata": {
        "colab": {
          "base_uri": "https://localhost:8080/"
        },
        "id": "HIXP79qgSpB6",
        "outputId": "f5643311-9cf2-427c-9b92-38cb840839ea"
      },
      "execution_count": null,
      "outputs": [
        {
          "output_type": "stream",
          "name": "stdout",
          "text": [
            "i = 0, j = 0\n",
            "i = 0, j = 1\n",
            "i = 1, j = 0\n",
            "i = 1, j = 1\n",
            "i = 2, j = 0\n",
            "i = 2, j = 1\n",
            "2\n",
            "8\n",
            "7\n",
            "9\n",
            "['Shubh']\n",
            "['Shubh', 'GATE']\n",
            "['Shubh', 'GATE', 'iit']\n"
          ]
        }
      ]
    },
    {
      "cell_type": "code",
      "source": [
        "#Break & Continue Statements with For Loop -\n",
        "\"\"\"\n",
        "break: Exits the loop prematuraly.\n",
        "continue: Skips the rest of the code inside the loop for the current iteration and jumps to the next iteraiton\n",
        "\"\"\"\n",
        "#using break:\n",
        "for i in range(5):\n",
        "  if i==3:\n",
        "    break\n",
        "  print(i)\n",
        "\"\"\"\n",
        "0\n",
        "1\n",
        "2\n",
        "\"\"\"\n",
        "#__________________________________________________\n",
        "\n",
        "#using continue:\n",
        "for j in range(5):\n",
        "  if j == 3:\n",
        "    continue\n",
        "  print(j)\n",
        "\"\"\"\n",
        "0\n",
        "1\n",
        "2 - Continuing the loop and moving for next iteration by skipping this iteration and loop running for that.\n",
        "4\n",
        "\"\"\""
      ],
      "metadata": {
        "colab": {
          "base_uri": "https://localhost:8080/"
        },
        "id": "oD0kMecTYtHW",
        "outputId": "f2ed2b30-8679-48e9-9808-14a0df20ee5f"
      },
      "execution_count": null,
      "outputs": [
        {
          "output_type": "stream",
          "name": "stdout",
          "text": [
            "0\n",
            "1\n",
            "2\n",
            "0\n",
            "1\n",
            "2\n",
            "4\n"
          ]
        }
      ]
    },
    {
      "cell_type": "markdown",
      "source": [
        "  #While Loop in Python Programming"
      ],
      "metadata": {
        "id": "DfZ9Lv7v9Gol"
      }
    },
    {
      "cell_type": "code",
      "source": [
        "#While Loop in Python Programming\n",
        "\"\"\" A while loop in python repeatedly execute a block of code as long as a specified condition is True.\n",
        " It is useful for situatios  where you do not know borehand how many times you need to execute a block of code\n",
        "\n",
        "Siyntax -\n",
        "while condition:\n",
        "  #code to execute repeatdly\n",
        "\n",
        "We use For loop for iterating over the string, dictionary or anywhere, at where we know that hoe many times it will execute. But While is uses for\n",
        "conditions till its satisfying.\n",
        "\"\"\"\n",
        "\n",
        "count = 0\n",
        "while count<5:\n",
        "  print(count)\n",
        "  count+=1\n",
        "\"\"\"\n",
        "0\n",
        "1\n",
        "2\n",
        "3\n",
        "4\n",
        "\"\"\"\n",
        "total = 0\n",
        "number = 1\n",
        "while number <=10:\n",
        "  total+=number\n",
        "  number+=1\n",
        "print(\"Sum of numbers from 1 to 10 is: \", total) #Sum of numbers from 1 to 10 is:  55\n",
        "\n",
        "fruits = ['Apple','Pineapple','Waatermelon']\n",
        "index = 0\n",
        "while index < len(fruits):\n",
        "  print(fruits[index])\n",
        "  index+=1\n",
        "\"\"\"\n",
        "Apple\n",
        "Pineapple\n",
        "Waatermelon\n",
        "\"\"\"\n",
        "#__________________________________________________\n",
        "\n",
        "#useing Break and continue with while loop\n",
        "#using Break\n",
        "number = 0\n",
        "while number < 10:\n",
        "  if number == 5:\n",
        "    break\n",
        "  print(number)\n",
        "  number+=1\n",
        "\"\"\"\n",
        "0\n",
        "1\n",
        "2\n",
        "3\n",
        "4\n",
        "\"\"\"\n",
        "#__________________________________________________\n",
        "\n",
        "#using continue -\n",
        "number2 = 0\n",
        "while number2 < 10:\n",
        "  number2+=1\n",
        "  if number2%2==0:\n",
        "    continue\n",
        "  print(number2)\n",
        "\"\"\"\n",
        "1\n",
        "3\n",
        "5\n",
        "7\n",
        "9\n",
        "\"\"\""
      ],
      "metadata": {
        "colab": {
          "base_uri": "https://localhost:8080/",
          "height": 380
        },
        "id": "nz9S1cOt9Fsi",
        "outputId": "67b425f3-5a0d-487f-eea0-404c5fcad4d1"
      },
      "execution_count": null,
      "outputs": [
        {
          "output_type": "stream",
          "name": "stdout",
          "text": [
            "0\n",
            "1\n",
            "2\n",
            "3\n",
            "4\n",
            "Sum of numbers from 1 to 10 is:  55\n",
            "Apple\n",
            "Pineapple\n",
            "Waatermelon\n",
            "0\n",
            "1\n",
            "2\n",
            "3\n",
            "4\n",
            "1\n",
            "3\n",
            "5\n",
            "7\n",
            "9\n"
          ]
        },
        {
          "output_type": "execute_result",
          "data": {
            "text/plain": [
              "'\\n1\\n3\\n5\\n7\\n9\\n'"
            ],
            "application/vnd.google.colaboratory.intrinsic+json": {
              "type": "string"
            }
          },
          "metadata": {},
          "execution_count": 17
        }
      ]
    },
    {
      "cell_type": "markdown",
      "source": [
        "#Functions in Python -\n"
      ],
      "metadata": {
        "id": "mnr9-CtKDcGH"
      }
    },
    {
      "cell_type": "code",
      "source": [
        "#Functions in Python -\n",
        "\"\"\"\n",
        "Functions in Python are resusable blocks of code that perform a specific task. They help in organizing code, improving readibility, and reducing redundancy\n",
        "\n",
        "def function_name(parameters):\n",
        "  #code to be execute\n",
        "  return value.\n",
        "\"\"\"\n",
        "#defining a fcuntion for addition opertion\n",
        "def add(a,b):\n",
        "  c = a + b\n",
        "  return c\n",
        "print(add(3,4))#7\n",
        "d = 15+add(3,4)\n",
        "print(d)#22\n",
        "\n",
        "#defining a function for checking even/odd\n",
        "def even_or_odd(num):\n",
        "  if num%2==0:\n",
        "    return 'Even Dude'\n",
        "  else:\n",
        "    return 'Odd Buddy'\n",
        "\n",
        "print(even_or_odd(15))#Odd Buddy\n",
        "print(even_or_odd(8))#Even Dude\n",
        "\n",
        "\n"
      ],
      "metadata": {
        "id": "eOkapR3WANUA",
        "colab": {
          "base_uri": "https://localhost:8080/"
        },
        "outputId": "38d2967b-bf60-4b31-fe5d-010885e20eab"
      },
      "execution_count": null,
      "outputs": [
        {
          "output_type": "stream",
          "name": "stdout",
          "text": [
            "7\n",
            "22\n",
            "Odd Buddy\n",
            "Even Dude\n"
          ]
        }
      ]
    },
    {
      "cell_type": "code",
      "source": [
        "#Variable Length Arguement\n",
        "\"\"\"\n",
        "Variable Length Arguement IN python allow a function to accept an arbitary no. of arguments. These can be either Possitional Argument oR Keyword Argument.\n",
        "\n",
        "Types of variable-Lengh Argument\n",
        "1) Variable Length Possitional Arguement(* args):\n",
        "These allow a function to accpet any no. of positional argument inside the function, args is treated as tuple.\n",
        "2) Vairbale Lengh Keyword Arguement(**kwargs):\n",
        "These allow a function to accpet any no. of Keyword Arugments. Inside the function, **kwargs is treated as a dictionary becuse it works as Key & valuepair.\n",
        "\"\"\"\n",
        "def greetings(name):\n",
        "  return (f\"Hii,{name} your gate for IIT's is openend.\")\n",
        "print(greetings('Shubham Mahajan'))#Hii,Shubham Mahajan your gate for IIT's is openend.\n",
        "\n",
        "#what if no arugemtn passed -\n",
        "def greetings(name):\n",
        "  return (f\"Hii,{name} your gate for IIT's is openend.\")\n",
        "#print(greetings())#greetings() missing 1 required positional argument: 'name'\n",
        "\n",
        "#a default name, if no argument passed, then when arugement passed then replaced with that -\n",
        "def greetings(name= 'User'):\n",
        "  return (f\"Hii,{name} your gate for IIT's is openend.\")\n",
        "print(greetings())#Hii,User your gate for IIT's is openend.\n",
        "print(greetings('Mahajan Saheb'))#Hii,Mahajan Saheb your gate for IIT's is openend.\n",
        "#__________________________________________________\n"
      ],
      "metadata": {
        "colab": {
          "base_uri": "https://localhost:8080/"
        },
        "id": "5hvxImRSEGWh",
        "outputId": "e1834a51-4cf3-4d48-d542-04bdc6307409"
      },
      "execution_count": null,
      "outputs": [
        {
          "output_type": "stream",
          "name": "stdout",
          "text": [
            "Hii,Shubham Mahajan your gate for IIT's is openend.\n",
            "Hii,User your gate for IIT's is openend.\n",
            "Hii,Mahajan Saheb your gate for IIT's is openend.\n"
          ]
        }
      ]
    },
    {
      "cell_type": "code",
      "source": [
        "#Possitional Arguemnt : -\n",
        "#now for multile persons by using Possitional Argument -\n",
        "def greetings(*args):\n",
        "  \"Greetings and welcome message for multiple people\"\n",
        "  for nameofpeople in args:\n",
        "    print(f\"Hii! {nameofpeople} your gate for IIT's is openend.\")\n",
        "\n",
        "#pEOPLE TO WHOOM I WANT TO INVOTE  -\n",
        "greetings('Shubham','Stuti','Shruti','Banshi','Deep','Ashish','yashwant','Pragati')\n",
        "\"\"\"\n",
        "Hii! Shubham your gate for IIT's is openend.\n",
        "Hii! Stuti your gate for IIT's is openend.\n",
        "Hii! Shruti your gate for IIT's is openend.\n",
        "Hii! Banshi your gate for IIT's is openend.\n",
        "Hii! Deep your gate for IIT's is openend.\n",
        "Hii! Ashish your gate for IIT's is openend.\n",
        "Hii! yashwant your gate for IIT's is openend.\n",
        "Hii! Pragati your gate for IIT's is openend.\n",
        "\"\"\"\n",
        "#instead of print if i use 'return' then it only takes the first input of last given statement\n",
        "def greetings(*args):\n",
        "  \"Greetings and welcome message for multiple people\"\n",
        "  for nameofpeople in args:\n",
        "    return (f\"Hii! {nameofpeople} your gate for IIT's is openend.\")\n",
        "\n",
        "#pEOPLE TO WHOOM I WANT TO INVOTE  -\n",
        "greetings('Shubham','Stuti','Shruti','Banshi','Deep','Ashish','yashwant','Pragati')\n",
        "#__________________________________________________\n"
      ],
      "metadata": {
        "colab": {
          "base_uri": "https://localhost:8080/",
          "height": 181
        },
        "id": "9puwoQqEN6z-",
        "outputId": "f97fea9a-2c12-45ef-dfec-031f1bf45767"
      },
      "execution_count": null,
      "outputs": [
        {
          "output_type": "stream",
          "name": "stdout",
          "text": [
            "Hii! Shubham your gate for IIT's is openend.\n",
            "Hii! Stuti your gate for IIT's is openend.\n",
            "Hii! Shruti your gate for IIT's is openend.\n",
            "Hii! Banshi your gate for IIT's is openend.\n",
            "Hii! Deep your gate for IIT's is openend.\n",
            "Hii! Ashish your gate for IIT's is openend.\n",
            "Hii! yashwant your gate for IIT's is openend.\n",
            "Hii! Pragati your gate for IIT's is openend.\n"
          ]
        },
        {
          "output_type": "execute_result",
          "data": {
            "text/plain": [
              "\"Hii! Shubham your gate for IIT's is openend.\""
            ],
            "application/vnd.google.colaboratory.intrinsic+json": {
              "type": "string"
            }
          },
          "metadata": {},
          "execution_count": 38
        }
      ]
    },
    {
      "cell_type": "code",
      "source": [
        "#Keyword Argument  - It works as a dictionary and includes - Key, Valuepair. as it can take multiple info, multiple objects.\n",
        "def Exam_name(Exam_type,**Exam_info):\n",
        "  \"Describe the exam with its information in coding part\"\n",
        "  print(f\"\\nExam_type: {Exam_type}\")\n",
        "  for key,value in Exam_info.items():\n",
        "    print(f\"{key.capitalize()}: {value}\")\n",
        "\n",
        "#Example of Exam details\n",
        "Exam_name(\"Competitive\", name=\"GATE\", SpecializedSubject=\"DA\", Marksrequired=60)\n",
        "Exam_name(\"CompanySpecific\", name=\"TCSNQT\", SpecializedSubject=\"DSA\", Roles=\"Prime,Ninja,Digital\")\n",
        "Exam_name(\"MastersDimploma\", name=\"CDAC\", SpecializedSubject=\"Core_Subjects_of_Computer_Science\", Center=\"Pune\")\n",
        "\n",
        "\"\"\"\n",
        "xam_type: Competitive\n",
        "Name: GATE\n",
        "Specializedsubject: DA\n",
        "Marksrequired: 60\n",
        "\n",
        "Exam_type: CompanySpecific\n",
        "Name: TCSNQT\n",
        "Specializedsubject: DSA\n",
        "Roles: Prime,Ninja,Digital\n",
        "\n",
        "Exam_type: MastersDimploma\n",
        "Name: CDAC\n",
        "Specializedsubject: Core_Subjects_of_Computer_Science\n",
        "Center: Pune\n",
        "\"\"\"\n",
        "#__________________________________________________"
      ],
      "metadata": {
        "colab": {
          "base_uri": "https://localhost:8080/"
        },
        "id": "tGMtBSM_HFkc",
        "outputId": "1ff793aa-d408-48ec-fb46-b41ce4f60025"
      },
      "execution_count": null,
      "outputs": [
        {
          "output_type": "stream",
          "name": "stdout",
          "text": [
            "\n",
            "Exam_type: Competitive\n",
            "Name: GATE\n",
            "Specializedsubject: DA\n",
            "Marksrequired: 60\n",
            "\n",
            "Exam_type: CompanySpecific\n",
            "Name: TCSNQT\n",
            "Specializedsubject: DSA\n",
            "Roles: Prime,Ninja,Digital\n",
            "\n",
            "Exam_type: MastersDimploma\n",
            "Name: CDAC\n",
            "Specializedsubject: Core_Subjects_of_Computer_Science\n",
            "Center: Pune\n"
          ]
        }
      ]
    },
    {
      "cell_type": "markdown",
      "source": [
        "#Lambda Function in Python"
      ],
      "metadata": {
        "id": "sRTRnA8MQFSo"
      }
    },
    {
      "cell_type": "code",
      "source": [
        "#Lambda Function in Python\n",
        "\"\"\"\n",
        "Lambda Function is also known as 'Anonymous Funciton', are small, unnamed functions define with the Lambda Keyword.\n",
        "They are typically used for short,simple operations and are useful when you need a small function for a short period of time.\n",
        "\n",
        "Usable Syntax -\n",
        "lambda arguments: expression\n",
        "\n",
        "@Understanding - Iwant to use function, but don;t want to or not have the time to give name to each function, so i can use Lambda function to make it Faster & Easier\n",
        "\"\"\"\n",
        "add_ten = lambda x: x+10\n",
        "print(add_ten(5))#15\n",
        "\n",
        "#Using simple fucntion -\n",
        "def add(x,y):\n",
        "  c=x+y\n",
        "  return c\n",
        "add(3,4)#7\n",
        "#same using lambda function\n",
        "addition = lambda x,y: x+y\n",
        "addition(4,5)#9\n",
        "#__________________________________________________\n"
      ],
      "metadata": {
        "colab": {
          "base_uri": "https://localhost:8080/"
        },
        "id": "uKLa6rmlP6m-",
        "outputId": "d1745fbf-5a4e-4951-ef86-01046a8e597d"
      },
      "execution_count": null,
      "outputs": [
        {
          "output_type": "stream",
          "name": "stdout",
          "text": [
            "15\n"
          ]
        },
        {
          "output_type": "execute_result",
          "data": {
            "text/plain": [
              "9"
            ]
          },
          "metadata": {},
          "execution_count": 47
        }
      ]
    },
    {
      "cell_type": "code",
      "source": [
        "#Using lambda with map()\n",
        "\"\"\" the map() function applies a given funciton to all items in an iterable (like a list) and returns a map object(an iterator)\n",
        "Syntax - map(function, iterator)\n",
        "\"\"\"\n",
        "numbers = [1,2,3,4,5]\n",
        "squared = map(lambda x: x**2, numbers)# Here map function is working as a iterator, as executing every operation within theat single line of code .\n",
        "print(list(squared))#[1, 4, 9, 16, 25]\n",
        "\n",
        "list1  = [1,2,3]\n",
        "list2 =  [4,5,6]\n",
        "sum_lists = list(map(lambda x,y: x+y, list1, list2 ))\n",
        "print(sum_lists)#[5, 7, 9]\n",
        "\n",
        "#Output without map, for the same code OR What If I don;t use map function\n",
        "list1  = [1,2,3]\n",
        "list2 =  [4,5,6]\n",
        "sum_lists = list((lambda x,y: x+y, list1, list2 ))\n",
        "print(sum_lists)#[<function <lambda> at 0x7caae730a3b0>, [1, 2, 3], [4, 5, 6]]\n",
        "\n",
        "tuples = [(1,'a'),(2,'b'),(3,'c')]# List of Tuples\n",
        "first_elements = list(map(lambda t: t[0], tuples))\n",
        "print(first_elements)#[1, 2, 3]\n",
        "\n",
        "students = [{'name':'Alice','age':'24'},\n",
        "            {'name':'Bob','age':'25'},\n",
        "            {'name':'Climpson','age':'28'},] # it is a List of Dictionaries\n",
        "names = list(map(lambda student: student['name'], students))\n",
        "ages = list(map(lambda student: student['age'], students))\n",
        "print(\"Names:\",names)\n",
        "print(\"Ages:\", ages)\n",
        "\"\"\"\n",
        "Names: ['Alice', 'Bob', 'Climpson']\n",
        "Ages: ['24', '25', '28']\n",
        "\"\"\"\n",
        "#__________________________________________________"
      ],
      "metadata": {
        "colab": {
          "base_uri": "https://localhost:8080/"
        },
        "id": "m5uR7dP_QI-v",
        "outputId": "ea8082e3-f72d-44bf-8a5f-e6d6ddfe9b05"
      },
      "execution_count": null,
      "outputs": [
        {
          "output_type": "stream",
          "name": "stdout",
          "text": [
            "[1, 4, 9, 16, 25]\n",
            "[5, 7, 9]\n",
            "[<function <lambda> at 0x7caae73870a0>, [1, 2, 3], [4, 5, 6]]\n",
            "[1, 2, 3]\n",
            "Names: ['Alice', 'Bob', 'Climpson']\n",
            "Ages: ['24', '25', '28']\n"
          ]
        }
      ]
    },
    {
      "cell_type": "code",
      "source": [
        "#Using lambda with filter()\n",
        "\"\"\"\n",
        "The filter() functions constructs an interator from elements of an iterable for which a function returns true.\n",
        "In other words, it filters out elements from an interable(e.g. a list, tuple, set) bsed on a specified condition\n",
        "\n",
        "Syntax - filter(function,iterable)\n",
        "\"\"\"\n",
        "\n",
        "numbers = [1,2,3,4,5,6,7,8,9,10]\n",
        "even_numbers = filter(lambda x:x%2 == 0, numbers)# filtering those numbers which are even\n",
        "print(list(even_numbers))#[2, 4, 6, 8, 10]\n",
        "\n",
        "#same code without using filter function -\n",
        "numbers = [1,2,3,4,5,6,7,8,9,10]\n",
        "even_numbers = (lambda x:x%2 == 0, numbers)\n",
        "print(list(even_numbers))#[<function <lambda> at 0x7caae73392d0>, [1, 2, 3, 4, 5, 6, 7, 8, 9, 10]]\n",
        "\n",
        "#Same code using Map function -\n",
        "numbers = [1,2,3,4,5,6,7,8,9,10]\n",
        "even_numbers = map(lambda x:x%2 == 0, numbers)\n",
        "print(list(even_numbers))#[False, True, False, True, False, True, False, True, False, True]\n",
        "\n",
        "strings = [\"a\", \"ab\",\"abc\",\"abcd\",\"abcde\"]\n",
        "long_strings = filter(lambda s: len(s)> 3, strings)\n",
        "print(list(long_strings))#['abcd', 'abcde']\n",
        "\n",
        "#Without using Filtering function it's not filtering the requirement.\n",
        "strings = [\"a\", \"ab\",\"abc\",\"abcd\",\"abcde\"]\n",
        "long_strings = (lambda s: len(s)> 3, strings)\n",
        "print(list(long_strings))#[<function <lambda> at 0x7caae7338af0>, ['a', 'ab', 'abc', 'abcd', 'abcde']]\n",
        "\n",
        "#using Map functions it's retuning tue false.\n",
        "strings = [\"a\", \"ab\",\"abc\",\"abcd\",\"abcde\"]\n",
        "long_strings = map(lambda s: len(s)> 3, strings)\n",
        "print(list(long_strings))#[False, False, False, True, True]\n",
        "#__________________________________________________\n"
      ],
      "metadata": {
        "colab": {
          "base_uri": "https://localhost:8080/"
        },
        "id": "Y2GIZTU4nIQ0",
        "outputId": "bd18d667-ea48-40d2-9a5b-7e68a2796c5d"
      },
      "execution_count": null,
      "outputs": [
        {
          "output_type": "stream",
          "name": "stdout",
          "text": [
            "[2, 4, 6, 8, 10]\n",
            "[<function <lambda> at 0x7caae733a950>, [1, 2, 3, 4, 5, 6, 7, 8, 9, 10]]\n",
            "[False, True, False, True, False, True, False, True, False, True]\n",
            "['abcd', 'abcde']\n",
            "[<function <lambda> at 0x7caae733b130>, ['a', 'ab', 'abc', 'abcd', 'abcde']]\n",
            "[False, False, False, True, True]\n"
          ]
        }
      ]
    },
    {
      "cell_type": "markdown",
      "source": [
        "#Recursion -"
      ],
      "metadata": {
        "id": "sAKIsw-srGTH"
      }
    },
    {
      "cell_type": "code",
      "source": [
        "#Recursion -\n",
        "\"\"\"\n",
        "Recursion is a Programming technique where a function call itself in order to solve a problem.\n",
        "It is especially useful for tasks that can be broken down into smaller, simillar sub task.\n",
        "In python, recursion can be implemented by defining a function that calls itself.\n",
        "\n",
        "Key Concepts of Recursion -\n",
        "1) Base Case - The condition under which the recursive function stops calling itself. It prevents Infinite Recursionand Eventual Stack overflow.\n",
        "2) Recursive Case - The oart if function that includes the recursive call, moving the function towards the base Case.\n",
        "\"\"\"\n",
        "def factorial(n):\n",
        "  #Base Case\n",
        "  if n==0:\n",
        "    return 1\n",
        "  #Recursive Base\n",
        "  else:\n",
        "    return n* factorial(n-1)\n",
        "\n",
        "#Example usage\n",
        "print(factorial(5))#120\n",
        "\n",
        "def sum_list(numbers):\n",
        "  #Base Case\n",
        "  if len(numbers) ==0:\n",
        "    return 0\n",
        "  #Recursive Case\n",
        "  else:\n",
        "    return numbers[0] + sum_list(numbers[1:])\n",
        "\n",
        "#Example usage\n",
        "print(sum_list([1,2,3,4,5]))#15\n",
        "#__________________________________________________"
      ],
      "metadata": {
        "colab": {
          "base_uri": "https://localhost:8080/"
        },
        "id": "K6oW-nnJnMiw",
        "outputId": "d2482008-23af-44c4-d512-057e95ecaa01"
      },
      "execution_count": null,
      "outputs": [
        {
          "output_type": "stream",
          "name": "stdout",
          "text": [
            "120\n",
            "15\n"
          ]
        }
      ]
    },
    {
      "cell_type": "markdown",
      "source": [
        "#Introduction to OOP\n"
      ],
      "metadata": {
        "id": "T_EZDNXx3pOU"
      }
    },
    {
      "cell_type": "code",
      "source": [
        "#Introduction to OOP\n",
        "\"\"\"\n",
        "Object Oriented Programming(OOP) is a programmming paradigm based on the concept of \"Objects\", which can contain data oR code to manipulate data.\n",
        "OOP Emphasizes the use of Objects, Classes,Inheritance,Polymorphism,Encapsulations and abstraction\n",
        "\n",
        "Classes -\n",
        "A class ia a blueprint for creating objects. It defines a set ofattributes and methods that the created objects will have.\n",
        "\"\"\"\n"
      ],
      "metadata": {
        "id": "vMYaQZKwtcEH",
        "colab": {
          "base_uri": "https://localhost:8080/",
          "height": 72
        },
        "outputId": "ba365111-58bc-4738-8f53-a38bd62a3556"
      },
      "execution_count": null,
      "outputs": [
        {
          "output_type": "execute_result",
          "data": {
            "text/plain": [
              "'\\nObject Oriented Programming(OOP) is a programmming paradigm based on the concept of \"Objects\", which can contain data oR code to manipulate data.\\nOOP Emphasizes the use of Objects, Classes,Inheritance,Polymorphism,Encapsulations and abstraction\\n\\nClasses -\\nA class ia a blueprint for creating objects. It defines a set ofattributes and methods that the created objects will have.\\n'"
            ],
            "application/vnd.google.colaboratory.intrinsic+json": {
              "type": "string"
            }
          },
          "metadata": {},
          "execution_count": 3
        }
      ]
    },
    {
      "cell_type": "code",
      "source": [
        "class luxurycars:\n",
        "  price = 100000\n",
        "  def cost(self,a,b):\n",
        "    c=a+b\n",
        "    return c*10\n",
        "\n",
        "audi = luxurycars()# luxurycar is my class name while aUDI is my object name here.\n",
        "print(audi.cost(1000,200))#12000\n",
        "#__________________________________________________"
      ],
      "metadata": {
        "id": "m8yaDKLo42ei",
        "colab": {
          "base_uri": "https://localhost:8080/"
        },
        "outputId": "4ec0b8ea-bfcb-48f5-edb5-cbead7b91447"
      },
      "execution_count": null,
      "outputs": [
        {
          "output_type": "stream",
          "name": "stdout",
          "text": [
            "12000\n"
          ]
        }
      ]
    },
    {
      "cell_type": "code",
      "source": [
        "\"\"\"\n",
        "#Objects -\n",
        "An object is an instance of a class. It represents a specific entity with the structure defined by the class.\n",
        "\n",
        "#Methods -\n",
        "Methods are functions defined within a class that descibe the behavious of the objects.\n",
        "\n",
        "#Constructor - In Python, a constructor is a special method used for initilizing the attributes of an object when it is created. The constructor\n",
        "methpd in python is init, and it is automatically called when a new instance of a class is created.\n",
        "\"\"\"\n",
        "class Car:\n",
        "  def __init__(self,make,model,year):\n",
        "    self.make = make\n",
        "    self.model = model\n",
        "    self.year = year\n",
        "\n",
        "  def display_info(self):\n",
        "    print(f\"{self.year}{self.make}{self.model}\")\n",
        "\n",
        "my_car = Car('Ford','SUV',2020)\n",
        "print(my_car.display_info())\n",
        "\n",
        "audi = Car('Audi','SUV',2020)\n",
        "print(audi.display_info())\n",
        "#__________________________________________________"
      ],
      "metadata": {
        "colab": {
          "base_uri": "https://localhost:8080/"
        },
        "id": "jlI6iHsHkEtz",
        "outputId": "17ddab7d-712c-4491-b81a-6e68ed836082"
      },
      "execution_count": null,
      "outputs": [
        {
          "output_type": "stream",
          "name": "stdout",
          "text": [
            "2020FordSUV\n",
            "None\n",
            "2020AudiSUV\n",
            "None\n"
          ]
        }
      ]
    },
    {
      "cell_type": "code",
      "source": [],
      "metadata": {
        "id": "NpXkqzNLp2r5"
      },
      "execution_count": null,
      "outputs": []
    }
  ]
}